{
 "cells": [
  {
   "cell_type": "code",
   "execution_count": 1,
   "metadata": {},
   "outputs": [],
   "source": [
    "import sys\n",
    "import csv\n",
    "from selenium import webdriver\n",
    "from selenium.webdriver.common.keys import Keys\n",
    "from selenium.webdriver.common.desired_capabilities import DesiredCapabilities\n",
    "from selenium.webdriver.support.ui import WebDriverWait\n",
    "from selenium.webdriver.support import expected_conditions as EC\n",
    "from selenium.webdriver.common.by import By\n",
    "from selenium.common.exceptions import NoSuchElementException\n",
    "from selenium.common.exceptions import TimeoutException\n",
    "from selenium.common.exceptions import UnexpectedAlertPresentException\n",
    "from selenium.common.exceptions import WebDriverException\n",
    "from itertools import zip_longest\n",
    "import time\n",
    "\n",
    "chrome_options = webdriver.ChromeOptions()\n",
    "chrome_options.add_argument(\"--incognito\")\n",
    "\n",
    "chrome = webdriver.Chrome(executable_path=\"../chromedriver\",options=chrome_options)\n",
    "chrome.delete_all_cookies()"
   ]
  },
  {
   "cell_type": "code",
   "execution_count": 2,
   "metadata": {},
   "outputs": [
    {
     "name": "stdout",
     "output_type": "stream",
     "text": [
      "file written\n"
     ]
    }
   ],
   "source": [
    "#open csv\n",
    "with open('nike_product.csv', 'w') as csvfile:\n",
    "    cwriter = csv.writer(csvfile, delimiter=',', quoting=csv.QUOTE_MINIMAL)\n",
    "    tab_brand = []\n",
    "    tab_model = []\n",
    "    tab_price = []\n",
    "    tab_link = []\n",
    "    chrome.get(\"https://www.nike.com/fr/w/hommes-chaussures-nik1zy7ok\")\n",
    "    time.sleep(5)\n",
    "    i=1\n",
    "    scroll = 2000\n",
    "    for i in range(100):\n",
    "        chrome.execute_script(\"window.scrollTo(0,\"+str(scroll)+\")\")\n",
    "        scroll += 1000\n",
    "        time.sleep(2)\n",
    "    \n",
    "    all_widgets = chrome.find_elements_by_class_name(\"product-grid\")\n",
    "    first_line = all_widgets[0]\n",
    "\n",
    "    #model\n",
    "    all_first_line_elements = first_line.find_elements_by_class_name('product-card__title')\n",
    "    for elt in all_first_line_elements:\n",
    "        tab_brand.append(\"Nike\")\n",
    "        tab_model.append(elt.text)\n",
    "\n",
    "    #current price\n",
    "    all_first_line_elements = first_line.find_elements_by_class_name('product-price')\n",
    "    for elt in all_first_line_elements:\n",
    "        tab_price.append(elt.text)\n",
    "        \n",
    "    #Link\n",
    "    all_first_line_elements = first_line.find_elements_by_class_name('product-card__img-link-overlay')\n",
    "    for elt in all_first_line_elements:\n",
    "        tab_link.append(elt.get_attribute('href'))\n",
    "    \n",
    "\n",
    "    #save in csv\n",
    "    d = [tab_brand, tab_model, tab_price, tab_link]\n",
    "    export_data = zip_longest(*d, fillvalue = '')\n",
    "    try:\n",
    "        cwriter.writerow((\"Brand\", \"Model\", \"Price\", \"Link\"))\n",
    "        cwriter.writerows(export_data)\n",
    "        print(\"file written\")\n",
    "    except(WebDriverException):\n",
    "        print(\"Error message - csv\")\n",
    "    finally:\n",
    "        pass\n",
    "csvfile.close()"
   ]
  },
  {
   "cell_type": "code",
   "execution_count": null,
   "metadata": {},
   "outputs": [],
   "source": []
  }
 ],
 "metadata": {
  "kernelspec": {
   "display_name": "Python 3",
   "language": "python",
   "name": "python3"
  },
  "language_info": {
   "codemirror_mode": {
    "name": "ipython",
    "version": 3
   },
   "file_extension": ".py",
   "mimetype": "text/x-python",
   "name": "python",
   "nbconvert_exporter": "python",
   "pygments_lexer": "ipython3",
   "version": "3.7.6"
  }
 },
 "nbformat": 4,
 "nbformat_minor": 4
}
