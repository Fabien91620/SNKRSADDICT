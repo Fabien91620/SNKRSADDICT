{
 "cells": [
  {
   "cell_type": "code",
   "execution_count": 9,
   "metadata": {},
   "outputs": [],
   "source": [
    "import sys\n",
    "import csv\n",
    "from selenium import webdriver\n",
    "from selenium.webdriver.common.keys import Keys\n",
    "from selenium.webdriver.common.desired_capabilities import DesiredCapabilities\n",
    "from selenium.webdriver.support.ui import WebDriverWait\n",
    "from selenium.webdriver.support import expected_conditions as EC\n",
    "from selenium.webdriver.common.by import By\n",
    "from selenium.common.exceptions import NoSuchElementException\n",
    "from selenium.common.exceptions import TimeoutException\n",
    "from selenium.common.exceptions import UnexpectedAlertPresentException\n",
    "from selenium.common.exceptions import WebDriverException\n",
    "from itertools import zip_longest\n",
    "import time\n",
    "\n",
    "chrome_options = webdriver.ChromeOptions()\n",
    "chrome_options.add_argument(\"--incognito\")\n",
    "\n",
    "\n",
    "chrome = webdriver.Chrome(executable_path=\"../chromedriver\",options=chrome_options)\n",
    "chrome.delete_all_cookies()\n",
    "chrome.get(\"https://stockx.com/sneakers\")\n",
    "chrome.delete_all_cookies()"
   ]
  },
  {
   "cell_type": "code",
   "execution_count": 3,
   "metadata": {},
   "outputs": [
    {
     "ename": "IndexError",
     "evalue": "list index out of range",
     "output_type": "error",
     "traceback": [
      "\u001b[0;31m---------------------------------------------------------------------------\u001b[0m",
      "\u001b[0;31mIndexError\u001b[0m                                Traceback (most recent call last)",
      "\u001b[0;32m<ipython-input-3-20621ccb20c6>\u001b[0m in \u001b[0;36m<module>\u001b[0;34m\u001b[0m\n\u001b[1;32m     11\u001b[0m         \u001b[0mtime\u001b[0m\u001b[0;34m.\u001b[0m\u001b[0msleep\u001b[0m\u001b[0;34m(\u001b[0m\u001b[0;36m2\u001b[0m\u001b[0;34m)\u001b[0m\u001b[0;34m\u001b[0m\u001b[0;34m\u001b[0m\u001b[0m\n\u001b[1;32m     12\u001b[0m         \u001b[0mall_widgets\u001b[0m \u001b[0;34m=\u001b[0m \u001b[0mchrome\u001b[0m\u001b[0;34m.\u001b[0m\u001b[0mfind_elements_by_class_name\u001b[0m\u001b[0;34m(\u001b[0m\u001b[0;34m\"browse-grid\"\u001b[0m\u001b[0;34m)\u001b[0m\u001b[0;34m\u001b[0m\u001b[0;34m\u001b[0m\u001b[0m\n\u001b[0;32m---> 13\u001b[0;31m         \u001b[0mfirst_line\u001b[0m \u001b[0;34m=\u001b[0m \u001b[0mall_widgets\u001b[0m\u001b[0;34m[\u001b[0m\u001b[0;36m0\u001b[0m\u001b[0;34m]\u001b[0m\u001b[0;34m\u001b[0m\u001b[0;34m\u001b[0m\u001b[0m\n\u001b[0m\u001b[1;32m     14\u001b[0m \u001b[0;34m\u001b[0m\u001b[0m\n\u001b[1;32m     15\u001b[0m         \u001b[0;31m#brand\u001b[0m\u001b[0;34m\u001b[0m\u001b[0;34m\u001b[0m\u001b[0;34m\u001b[0m\u001b[0m\n",
      "\u001b[0;31mIndexError\u001b[0m: list index out of range"
     ]
    }
   ],
   "source": [
    "#open csv\n",
    "with open('stockX_product.csv', 'w') as csvfile:\n",
    "    cwriter = csv.writer(csvfile, delimiter=',', quoting=csv.QUOTE_MINIMAL)\n",
    "    tab_brand = []\n",
    "    tab_model = []\n",
    "    tab_price = []\n",
    "    tab_link = []\n",
    "    i=1\n",
    "    for i in range(25):\n",
    "        chrome.get(\"https://stockx.com/sneakers?page=\"+str(i)+\"\")\n",
    "        time.sleep(3)\n",
    "        all_widgets = chrome.find_elements_by_class_name(\"browse-grid\")\n",
    "        first_line = all_widgets[0]\n",
    "        \n",
    "        #brand\n",
    "        all_first_line_elements = first_line.find_elements_by_class_name('css-nfm48z')\n",
    "        for elt in all_first_line_elements:\n",
    "            tab_brand.append(elt.text.split()[0])\n",
    "            \n",
    "        #model\n",
    "        all_first_line_elements = first_line.find_elements_by_class_name('css-nfm48z')\n",
    "        for elt in all_first_line_elements:\n",
    "            tab_model.append(elt.text.split(\" \",1)[1])\n",
    "        \n",
    "        #current price\n",
    "        all_first_line_elements = first_line.find_elements_by_class_name('css-ghbupc')\n",
    "        for elt in all_first_line_elements:\n",
    "            tab_price.append(elt.text)\n",
    "            \n",
    "        #link\n",
    "        all_first_line_elements = first_line.find_elements_by_class_name('tile css-1kw3j1t e1yt6rrx0-ghbupc')\n",
    "        for elt in all_first_line_elements:\n",
    "            tab_link.append(elt.get_attribute('href'))\n",
    "\n",
    "    \n",
    "    #save in csv\n",
    "    d = [tab_brand, tab_model, tab_price, tab_link]\n",
    "    export_data = zip_longest(*d, fillvalue = '')\n",
    "    try:\n",
    "        cwriter.writerow((\"Brand\", \"Model\", \"Price\", \"Link\"))\n",
    "        cwriter.writerows(export_data)\n",
    "        print(\"file written\")\n",
    "    except(WebDriverException):\n",
    "        print(\"Error message - csv\")\n",
    "    finally:\n",
    "        pass\n",
    "csvfile.close()"
   ]
  },
  {
   "cell_type": "code",
   "execution_count": null,
   "metadata": {},
   "outputs": [],
   "source": []
  }
 ],
 "metadata": {
  "kernelspec": {
   "display_name": "Python 3",
   "language": "python",
   "name": "python3"
  },
  "language_info": {
   "codemirror_mode": {
    "name": "ipython",
    "version": 3
   },
   "file_extension": ".py",
   "mimetype": "text/x-python",
   "name": "python",
   "nbconvert_exporter": "python",
   "pygments_lexer": "ipython3",
   "version": "3.7.6"
  }
 },
 "nbformat": 4,
 "nbformat_minor": 4
}
